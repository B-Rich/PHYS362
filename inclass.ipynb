{
 "cells": [
  {
   "cell_type": "markdown",
   "metadata": {},
   "source": [
    "# Problem 1.3\n",
    "\n",
    "## Problem statement\n",
    "\n",
    "Consider the gaussian distribution. $$\\rho(x) = A e^{-\\lambda(x-a)^2},$$ with $A$, $a$, $\\lambda$ positive, real constants.\n",
    "\n",
    "* find A\n",
    "* find $\\langle x \\rangle$ and $\\langle x^2\\rangle$\n",
    "* Sketch a graph of $\\rho(x)$\n",
    "\n",
    "\n",
    "----\n",
    "\n",
    "## Solution"
   ]
  },
  {
   "cell_type": "code",
   "execution_count": 7,
   "metadata": {
    "collapsed": true
   },
   "outputs": [],
   "source": [
    "import sympy as sp\n",
    "\n",
    "from sympy import symbols\n",
    "\n",
    "x = symbols('x')\n",
    "A, a, lamb = symbols('A a lambda', real=True, positive=True)"
   ]
  },
  {
   "cell_type": "code",
   "execution_count": 8,
   "metadata": {
    "collapsed": false
   },
   "outputs": [
    {
     "data": {
      "image/png": "[encoded data removed]",
      "text/latex": [
       "$$A e^{- \\lambda \\left(- a + x\\right)^{2}}$$"
      ],
      "text/plain": [
       "              2\n",
       "   -λ⋅(-a + x) \n",
       "A⋅ℯ            "
      ]
     },
     "execution_count": 8,
     "metadata": {},
     "output_type": "execute_result"
    }
   ],
   "source": [
    "rho = A*sp.exp(-lamb*(x-a)**2)\n",
    "rho"
   ]
  },
  {
   "cell_type": "code",
   "execution_count": 3,
   "metadata": {
    "collapsed": true
   },
   "outputs": [],
   "source": [
    "sp.init_printing()"
   ]
  },
  {
   "cell_type": "code",
   "execution_count": 4,
   "metadata": {
    "collapsed": false
   },
   "outputs": [
    {
     "data": {
      "image/png": "[encoded data removed]",
      "text/latex": [
       "$$A e^{- \\lambda \\left(- a + x\\right)^{2}}$$"
      ],
      "text/plain": [
       "              2\n",
       "   -λ⋅(-a + x) \n",
       "A⋅ℯ            "
      ]
     },
     "execution_count": 4,
     "metadata": {},
     "output_type": "execute_result"
    }
   ],
   "source": [
    "rho"
   ]
  },
  {
   "cell_type": "markdown",
   "metadata": {},
   "source": [
    "To find $A$, we're going to use the normalization condition $$1 = \\int_{-\\infty}^{+\\infty} \\rho(x) dx.$$"
   ]
  },
  {
   "cell_type": "code",
   "execution_count": 5,
   "metadata": {
    "collapsed": true
   },
   "outputs": [],
   "source": [
    "from sympy import integrate, oo"
   ]
  },
  {
   "cell_type": "code",
   "execution_count": 9,
   "metadata": {
    "collapsed": false
   },
   "outputs": [
    {
     "data": {
      "image/png": "[encoded data removed]",
      "text/latex": [
       "$$\\frac{\\sqrt{\\pi} A}{\\sqrt{\\lambda}}$$"
      ],
      "text/plain": [
       "√π⋅A\n",
       "────\n",
       " √λ "
      ]
     },
     "execution_count": 9,
     "metadata": {},
     "output_type": "execute_result"
    }
   ],
   "source": [
    "integrate(rho, (x, -oo, oo))"
   ]
  },
  {
   "cell_type": "code",
   "execution_count": 10,
   "metadata": {
    "collapsed": false
   },
   "outputs": [
    {
     "data": {
      "image/png": "[encoded data removed]",
      "text/latex": [
       "$$\\left\\{\\frac{\\sqrt{\\lambda}}{\\sqrt{\\pi}}\\right\\}$$"
      ],
      "text/plain": [
       "⎧√λ⎫\n",
       "⎨──⎬\n",
       "⎩√π⎭"
      ]
     },
     "execution_count": 10,
     "metadata": {},
     "output_type": "execute_result"
    }
   ],
   "source": [
    "from sympy import Eq, solveset\n",
    "\n",
    "normalization_condition = Eq(1, integrate(rho, (x, -oo, oo)))\n",
    "\n",
    "solveset(normalization_condition, A)"
   ]
  },
  {
   "cell_type": "code",
   "execution_count": 12,
   "metadata": {
    "collapsed": false
   },
   "outputs": [
    {
     "data": {
      "image/png": "[encoded data removed]",
      "text/latex": [
       "$$\\frac{\\sqrt{\\lambda}}{\\sqrt{\\pi}} e^{- \\lambda \\left(- a + x\\right)^{2}}$$"
      ],
      "text/plain": [
       "               2\n",
       "    -λ⋅(-a + x) \n",
       "√λ⋅ℯ            \n",
       "────────────────\n",
       "       √π       "
      ]
     },
     "execution_count": 12,
     "metadata": {},
     "output_type": "execute_result"
    }
   ],
   "source": [
    "rho = rho.subs(A, next(iter(solveset(normalization_condition, A))))\n",
    "\n",
    "rho"
   ]
  },
  {
   "cell_type": "markdown",
   "metadata": {},
   "source": [
    "### Expectation values\n",
    "\n",
    "$$\\langle x\\rangle = \\int_{-\\infty}^{+\\infty} x \\rho(x) dx$$\n",
    "\n",
    "$$\\langle x^2\\rangle = \\int_{-\\infty}^{+\\infty} x^2 \\rho(x) dx$$"
   ]
  },
  {
   "cell_type": "code",
   "execution_count": 13,
   "metadata": {
    "collapsed": false
   },
   "outputs": [
    {
     "data": {
      "image/png": "[encoded data removed]",
      "text/latex": [
       "$$a$$"
      ],
      "text/plain": [
       "a"
      ]
     },
     "execution_count": 13,
     "metadata": {},
     "output_type": "execute_result"
    }
   ],
   "source": [
    "expectx = integrate(x*rho, (x, -oo, oo))\n",
    "expectx"
   ]
  },
  {
   "cell_type": "code",
   "execution_count": 14,
   "metadata": {
    "collapsed": false
   },
   "outputs": [
    {
     "data": {
      "image/png": "[encoded data removed]",
      "text/latex": [
       "$$a^{2} + \\frac{1}{2 \\lambda}$$"
      ],
      "text/plain": [
       " 2    1 \n",
       "a  + ───\n",
       "     2⋅λ"
      ]
     },
     "execution_count": 14,
     "metadata": {},
     "output_type": "execute_result"
    }
   ],
   "source": [
    "expectxsq = integrate(x**2*rho, (x, -oo, oo))\n",
    "\n",
    "expectxsq"
   ]
  },
  {
   "cell_type": "markdown",
   "metadata": {},
   "source": [
    "----\n",
    "\n",
    "## Portfolio references\n",
    "\n",
    "## Index terms\n",
    "\n",
    "## Book references\n",
    "\n",
    "## External references"
   ]
  }
 ],
 "metadata": {
  "anaconda-cloud": {},
  "kernelspec": {
   "display_name": "Python [PHYS362]",
   "language": "python",
   "name": "Python [PHYS362]"
  },
  "language_info": {
   "codemirror_mode": {
    "name": "ipython",
    "version": 3
   },
   "file_extension": ".py",
   "mimetype": "text/x-python",
   "name": "python",
   "nbconvert_exporter": "python",
   "pygments_lexer": "ipython3",
   "version": "3.5.2"
  }
 },
 "nbformat": 4,
 "nbformat_minor": 0
}
