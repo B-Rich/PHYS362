{
 "cells": [
  {
   "cell_type": "markdown",
   "metadata": {},
   "source": [
    "# Problem 1.9\n",
    "\n",
    "\n",
    "## Problem statement\n",
    "\n",
    "A particle of mass $m$ is in the state $$\\Psi(x,t) = A e^{-a[(mx^2/\\hbar)+it]},$$\n",
    "\n",
    "\n",
    "where $A$ and $a$ are positive real constants.\n",
    "\n",
    "\n",
    "----\n",
    "\n",
    "## Solution"
   ]
  },
  {
   "cell_type": "code",
   "execution_count": null,
   "metadata": {
    "collapsed": true
   },
   "outputs": [],
   "source": []
  },
  {
   "cell_type": "markdown",
   "metadata": {},
   "source": [
    "----\n",
    "\n",
    "## Portfolio references\n",
    "\n",
    "## Index terms\n",
    "\n",
    "## Book references\n",
    "\n",
    "## External references"
   ]
  }
 ],
 "metadata": {
  "anaconda-cloud": {},
  "kernelspec": {
   "display_name": "Python [conda env:PHYS362]",
   "language": "python",
   "name": "conda-env-PHYS362-py"
  },
  "language_info": {
   "codemirror_mode": {
    "name": "ipython",
    "version": 3
   },
   "file_extension": ".py",
   "mimetype": "text/x-python",
   "name": "python",
   "nbconvert_exporter": "python",
   "pygments_lexer": "ipython3",
   "version": "3.5.2"
  }
 },
 "nbformat": 4,
 "nbformat_minor": 0
}
