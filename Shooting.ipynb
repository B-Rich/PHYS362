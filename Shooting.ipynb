{
 "cells": [
  {
   "cell_type": "markdown",
   "metadata": {},
   "source": [
    "# Introduction\n",
    "\n",
    "We've seen so far that `sympy` is pretty versatile in coming up with analytic solutions for Schrodinger's equation, and you might imagine that it's possible to use it even more broadly than we have (for example, to take care of the boundary condition matching we've done with the finite square well and delta-function potentials). Sometimes, though, it just isn't possible to get a nice, closed-form, analytic solution to Schrodinger's equation. In that situation, we need to go numerical.\n",
    "\n",
    "Of course, that brings us to a problem: the equation (and therefore the solution) is dependent on the energy, and only certain energies are allowed. In the analytic case, we found the general solution and then used boundary conditions to constrain that solution to particular energies. Clearly, that approach won't work if we're trying to solve numerically. So, we have to retreat to an old standby: guess and check.\n",
    "\n",
    "Actually, we're going to be a bit more systematic than the last paragraph would suggest. It is true that we will be guessing and checking, but we will use the results of each guess to improve our next guess, and that will lead us to the allowed energies with as much precision as we might want. The name for this approach is *Shooting*.\n",
    "\n",
    "Any shooting method has three parts:\n",
    "  * Given a guess at the eigenvalue, solve the ODE and check to see how well this solution matches the boundary conditions\n",
    "  * Given one or more previous guesses, come up with our next (improved) guess\n",
    "  * Get the ball rolling with an initial guess\n",
    "  \n",
    "Additionally, if we want to find a whole spectrum of allowed energies, we'd like to be able to move from one to the next automatically, but that's a refinement that isn't, strictly speaking, necessary.\n",
    "\n",
    "We'll start with solving the ODE. We'll use the finite square well as our potential; you're asked to go through the simple harmonic oscillator and the infinite square well as part of the homework.\n",
    "\n",
    "----\n",
    "\n",
    "## Solving ODEs\n",
    "\n",
    "The primary tool we will use to numerically solve ODEs is the `odeint` routine in the `scipy.integrate` module. We will also need to use a number of functions included in the `numpy` library, so we'll import it, as well.\n"
   ]
  },
  {
   "cell_type": "code",
   "execution_count": 1,
   "metadata": {
    "collapsed": true
   },
   "outputs": [],
   "source": [
    "import numpy as np\n",
    "from scipy.integrate import odeint\n"
   ]
  },
  {
   "cell_type": "code",
   "execution_count": 2,
   "metadata": {
    "collapsed": false
   },
   "outputs": [
    {
     "name": "stdout",
     "output_type": "stream",
     "text": [
      "Help on function odeint in module scipy.integrate.odepack:\n",
      "\n",
      "odeint(func, y0, t, args=(), Dfun=None, col_deriv=0, full_output=0, ml=None, mu=None, rtol=None, atol=None, tcrit=None, h0=0.0, hmax=0.0, hmin=0.0, ixpr=0, mxstep=0, mxhnil=0, mxordn=12, mxords=5, printmessg=0)\n",
      "    Integrate a system of ordinary differential equations.\n",
      "    \n",
      "    Solve a system of ordinary differential equations using lsoda from the\n",
      "    FORTRAN library odepack.\n",
      "    \n",
      "    Solves the initial value problem for stiff or non-stiff systems\n",
      "    of first order ode-s::\n",
      "    \n",
      "        dy/dt = func(y, t0, ...)\n",
      "    \n",
      "    where y can be a vector.\n",
      "    \n",
      "    *Note*: The first two arguments of ``func(y, t0, ...)`` are in the\n",
      "    opposite order of the arguments in the system definition function used\n",
      "    by the `scipy.integrate.ode` class.\n",
      "    \n",
      "    Parameters\n",
      "    ----------\n",
      "    func : callable(y, t0, ...)\n",
      "        Computes the derivative of y at t0.\n",
      "    y0 : array\n",
      "        Initial condition on y (can be a vector).\n",
      "    t : array\n",
      "        A sequence of time points for which to solve for y.  The initial\n",
      "        value point should be the first element of this sequence.\n",
      "    args : tuple, optional\n",
      "        Extra arguments to pass to function.\n",
      "    Dfun : callable(y, t0, ...)\n",
      "        Gradient (Jacobian) of `func`.\n",
      "    col_deriv : bool, optional\n",
      "        True if `Dfun` defines derivatives down columns (faster),\n",
      "        otherwise `Dfun` should define derivatives across rows.\n",
      "    full_output : bool, optional\n",
      "        True if to return a dictionary of optional outputs as the second output\n",
      "    printmessg : bool, optional\n",
      "        Whether to print the convergence message\n",
      "    \n",
      "    Returns\n",
      "    -------\n",
      "    y : array, shape (len(t), len(y0))\n",
      "        Array containing the value of y for each desired time in t,\n",
      "        with the initial value `y0` in the first row.\n",
      "    infodict : dict, only returned if full_output == True\n",
      "        Dictionary containing additional output information\n",
      "    \n",
      "        =======  ============================================================\n",
      "        key      meaning\n",
      "        =======  ============================================================\n",
      "        'hu'     vector of step sizes successfully used for each time step.\n",
      "        'tcur'   vector with the value of t reached for each time step.\n",
      "                 (will always be at least as large as the input times).\n",
      "        'tolsf'  vector of tolerance scale factors, greater than 1.0,\n",
      "                 computed when a request for too much accuracy was detected.\n",
      "        'tsw'    value of t at the time of the last method switch\n",
      "                 (given for each time step)\n",
      "        'nst'    cumulative number of time steps\n",
      "        'nfe'    cumulative number of function evaluations for each time step\n",
      "        'nje'    cumulative number of jacobian evaluations for each time step\n",
      "        'nqu'    a vector of method orders for each successful step.\n",
      "        'imxer'  index of the component of largest magnitude in the\n",
      "                 weighted local error vector (e / ewt) on an error return, -1\n",
      "                 otherwise.\n",
      "        'lenrw'  the length of the double work array required.\n",
      "        'leniw'  the length of integer work array required.\n",
      "        'mused'  a vector of method indicators for each successful time step:\n",
      "                 1: adams (nonstiff), 2: bdf (stiff)\n",
      "        =======  ============================================================\n",
      "    \n",
      "    Other Parameters\n",
      "    ----------------\n",
      "    ml, mu : int, optional\n",
      "        If either of these are not None or non-negative, then the\n",
      "        Jacobian is assumed to be banded.  These give the number of\n",
      "        lower and upper non-zero diagonals in this banded matrix.\n",
      "        For the banded case, `Dfun` should return a matrix whose\n",
      "        rows contain the non-zero bands (starting with the lowest diagonal).\n",
      "        Thus, the return matrix `jac` from `Dfun` should have shape\n",
      "        ``(ml + mu + 1, len(y0))`` when ``ml >=0`` or ``mu >=0``.\n",
      "        The data in `jac` must be stored such that ``jac[i - j + mu, j]``\n",
      "        holds the derivative of the `i`th equation with respect to the `j`th\n",
      "        state variable.  If `col_deriv` is True, the transpose of this\n",
      "        `jac` must be returned.\n",
      "    rtol, atol : float, optional\n",
      "        The input parameters `rtol` and `atol` determine the error\n",
      "        control performed by the solver.  The solver will control the\n",
      "        vector, e, of estimated local errors in y, according to an\n",
      "        inequality of the form ``max-norm of (e / ewt) <= 1``,\n",
      "        where ewt is a vector of positive error weights computed as\n",
      "        ``ewt = rtol * abs(y) + atol``.\n",
      "        rtol and atol can be either vectors the same length as y or scalars.\n",
      "        Defaults to 1.49012e-8.\n",
      "    tcrit : ndarray, optional\n",
      "        Vector of critical points (e.g. singularities) where integration\n",
      "        care should be taken.\n",
      "    h0 : float, (0: solver-determined), optional\n",
      "        The step size to be attempted on the first step.\n",
      "    hmax : float, (0: solver-determined), optional\n",
      "        The maximum absolute step size allowed.\n",
      "    hmin : float, (0: solver-determined), optional\n",
      "        The minimum absolute step size allowed.\n",
      "    ixpr : bool, optional\n",
      "        Whether to generate extra printing at method switches.\n",
      "    mxstep : int, (0: solver-determined), optional\n",
      "        Maximum number of (internally defined) steps allowed for each\n",
      "        integration point in t.\n",
      "    mxhnil : int, (0: solver-determined), optional\n",
      "        Maximum number of messages printed.\n",
      "    mxordn : int, (0: solver-determined), optional\n",
      "        Maximum order to be allowed for the non-stiff (Adams) method.\n",
      "    mxords : int, (0: solver-determined), optional\n",
      "        Maximum order to be allowed for the stiff (BDF) method.\n",
      "    \n",
      "    See Also\n",
      "    --------\n",
      "    ode : a more object-oriented integrator based on VODE.\n",
      "    quad : for finding the area under a curve.\n",
      "    \n",
      "    Examples\n",
      "    --------\n",
      "    The second order differential equation for the angle `theta` of a\n",
      "    pendulum acted on by gravity with friction can be written::\n",
      "    \n",
      "        theta''(t) + b*theta'(t) + c*sin(theta(t)) = 0\n",
      "    \n",
      "    where `b` and `c` are positive constants, and a prime (') denotes a\n",
      "    derivative.  To solve this equation with `odeint`, we must first convert\n",
      "    it to a system of first order equations.  By defining the angular\n",
      "    velocity ``omega(t) = theta'(t)``, we obtain the system::\n",
      "    \n",
      "        theta'(t) = omega(t)\n",
      "        omega'(t) = -b*omega(t) - c*sin(theta(t))\n",
      "    \n",
      "    Let `y` be the vector [`theta`, `omega`].  We implement this system\n",
      "    in python as:\n",
      "    \n",
      "    >>> def pend(y, t, b, c):\n",
      "    ...     theta, omega = y\n",
      "    ...     dydt = [omega, -b*omega - c*np.sin(theta)]\n",
      "    ...     return dydt\n",
      "    ...\n",
      "    \n",
      "    We assume the constants are `b` = 0.25 and `c` = 5.0:\n",
      "    \n",
      "    >>> b = 0.25\n",
      "    >>> c = 5.0\n",
      "    \n",
      "    For initial conditions, we assume the pendulum is nearly vertical\n",
      "    with `theta(0)` = `pi` - 0.1, and it initially at rest, so\n",
      "    `omega(0)` = 0.  Then the vector of initial conditions is\n",
      "    \n",
      "    >>> y0 = [np.pi - 0.1, 0.0]\n",
      "    \n",
      "    We generate a solution 101 evenly spaced samples in the interval\n",
      "    0 <= `t` <= 10.  So our array of times is:\n",
      "    \n",
      "    >>> t = np.linspace(0, 10, 101)\n",
      "    \n",
      "    Call `odeint` to generate the solution.  To pass the parameters\n",
      "    `b` and `c` to `pend`, we give them to `odeint` using the `args`\n",
      "    argument.\n",
      "    \n",
      "    >>> from scipy.integrate import odeint\n",
      "    >>> sol = odeint(pend, y0, t, args=(b, c))\n",
      "    \n",
      "    The solution is an array with shape (101, 2).  The first column\n",
      "    is `theta(t)`, and the second is `omega(t)`.  The following code\n",
      "    plots both components.\n",
      "    \n",
      "    >>> import matplotlib.pyplot as plt\n",
      "    >>> plt.plot(t, sol[:, 0], 'b', label='theta(t)')\n",
      "    >>> plt.plot(t, sol[:, 1], 'g', label='omega(t)')\n",
      "    >>> plt.legend(loc='best')\n",
      "    >>> plt.xlabel('t')\n",
      "    >>> plt.grid()\n",
      "    >>> plt.show()\n",
      "\n"
     ]
    }
   ],
   "source": [
    "help(odeint)"
   ]
  },
  {
   "cell_type": "markdown",
   "metadata": {},
   "source": [
    "There's a lot to unpack here, but for our purposes, it's enough to know that we have to provide a python function that will give us the right hand side of the ODE, and we need to specify the domain of the integration (called `t` in the documentation).\n",
    "\n",
    "#### Aside: Initial value vs. Boundary value problems\n",
    "\n",
    "One of the ways to categorize ODEs is related to how boundary conditions are applied. If you have conditions on both ends (which is our case with the Schrodinger equation), it's called a boundary value problem; if you have boundary conditions on one end, it's called an initial value problem. IVPs are common in the case where you have time evolution of some quantity: you know what the initial conditions are, but it doesn't (usually) make sense to talk about a final condition.  Numerical methods *do* exist for BVPs, but `odeint` is not one of them. The shooting method is a way of using an IVP solver to solve a BVP. Why do this? It turns out that BVP solvers tend to be more complicated and more computationally expensive than IVP solvers, so shooting is an easier entry into solving BVPs.\n",
    "\n"
   ]
  },
  {
   "cell_type": "code",
   "execution_count": 3,
   "metadata": {
    "collapsed": true
   },
   "outputs": [],
   "source": [
    "a = 1.0\n",
    "V0 = 20.0\n",
    "\n",
    "x = np.linspace(0, 3*a, 200)\n",
    "\n",
    "def func(y, x, E, a=a, V0=V0):\n",
    "    \"\"\"Right hand side for the Schrodinger equation (finite square well).\n",
    "    \n",
    "    defined for positive x; since we have symmetry, we'll go from the center out.\n",
    "    Energies are in eV, a is the width in nanometers\n",
    "    \"\"\"\n",
    "    hbar = 197.4 # eV nm/c\n",
    "    m = .511e6 # eV/c^2; an electron\n",
    "    \n",
    "    psi, psiprime = y\n",
    "    \n",
    "    if x < a:\n",
    "        psidoubleprime = -2*m/hbar**2 * (E + V0)*psi\n",
    "    else:\n",
    "        psidoubleprime = -2*m/hbar**2 * E * psi\n",
    "    \n",
    "    return psiprime, psidoubleprime"
   ]
  },
  {
   "cell_type": "code",
   "execution_count": 5,
   "metadata": {
    "collapsed": false
   },
   "outputs": [],
   "source": [
    "y0 = (1.0, 0.0)\n",
    "\n",
    "result = odeint(func, y0, x, args=(-19.0,))"
   ]
  },
  {
   "cell_type": "code",
   "execution_count": 6,
   "metadata": {
    "collapsed": true
   },
   "outputs": [],
   "source": [
    "from matplotlib import pyplot as plt"
   ]
  },
  {
   "cell_type": "code",
   "execution_count": 7,
   "metadata": {
    "collapsed": true
   },
   "outputs": [],
   "source": [
    "%matplotlib inline"
   ]
  },
  {
   "cell_type": "code",
   "execution_count": 8,
   "metadata": {
    "collapsed": false
   },
   "outputs": [
    {
     "data": {
      "text/plain": [
       "(200, 2)"
      ]
     },
     "execution_count": 8,
     "metadata": {},
     "output_type": "execute_result"
    }
   ],
   "source": [
    "result.shape"
   ]
  },
  {
   "cell_type": "code",
   "execution_count": 9,
   "metadata": {
    "collapsed": true
   },
   "outputs": [],
   "source": [
    "psi = result[:,0]"
   ]
  },
  {
   "cell_type": "code",
   "execution_count": 10,
   "metadata": {
    "collapsed": true
   },
   "outputs": [],
   "source": [
    "psiprime = result[:,1]"
   ]
  },
  {
   "cell_type": "code",
   "execution_count": 17,
   "metadata": {
    "collapsed": false
   },
   "outputs": [
    {
     "data": {
      "text/plain": [
       "[<matplotlib.lines.Line2D at 0x10e1e57f0>]"
      ]
     },
     "execution_count": 17,
     "metadata": {},
     "output_type": "execute_result"
    },
    {
     "data": {
      "image/png": "[encoded data removed]",
      "text/plain": [
       "<matplotlib.figure.Figure at 0x10e1e5ba8>"
      ]
     },
     "metadata": {},
     "output_type": "display_data"
    }
   ],
   "source": [
    "plt.plot(x, psi)\n",
    "plt.xlim(0,1.5)\n",
    "plt.ylim(-2,2)\n",
    "plt.plot(x,np.zeros_like(x))"
   ]
  },
  {
   "cell_type": "markdown",
   "metadata": {},
   "source": [
    "### Doing it by hand\n",
    "\n",
    "Now that we can integrate the ODE, we could apply the shooting method by hand, at least to get a rough idea. The energy we tried above is obviously too high. Let's try something a little lower."
   ]
  },
  {
   "cell_type": "code",
   "execution_count": 18,
   "metadata": {
    "collapsed": false
   },
   "outputs": [
    {
     "data": {
      "text/plain": [
       "[<matplotlib.lines.Line2D at 0x10e23f278>]"
      ]
     },
     "execution_count": 18,
     "metadata": {},
     "output_type": "execute_result"
    },
    {
     "data": {
      "image/png": "[encoded data removed]",
      "text/plain": [
       "<matplotlib.figure.Figure at 0x10e23f630>"
      ]
     },
     "metadata": {},
     "output_type": "display_data"
    }
   ],
   "source": [
    "y0 = (1.0, 0.0)\n",
    "\n",
    "result = odeint(func, y0, x, args=(-19.9,))\n",
    "psi = result[:,0]\n",
    "plt.plot(x, psi)\n",
    "plt.xlim(0,1.5)\n",
    "plt.ylim(-2,2)\n",
    "plt.plot(x,np.zeros_like(x))"
   ]
  },
  {
   "cell_type": "markdown",
   "metadata": {},
   "source": [
    "We went too far. Let's split the difference, and continue doing so until we get close enough."
   ]
  },
  {
   "cell_type": "code",
   "execution_count": 20,
   "metadata": {
    "collapsed": false
   },
   "outputs": [
    {
     "data": {
      "text/plain": [
       "[<matplotlib.lines.Line2D at 0x105815240>]"
      ]
     },
     "execution_count": 20,
     "metadata": {},
     "output_type": "execute_result"
    },
    {
     "data": {
      "image/png": "[encoded data removed]",
      "text/plain": [
       "<matplotlib.figure.Figure at 0x105815320>"
      ]
     },
     "metadata": {},
     "output_type": "display_data"
    }
   ],
   "source": [
    "y0 = (1.0, 0.0)\n",
    "\n",
    "result = odeint(func, y0, x, args=(-19.95,))\n",
    "psi = result[:,0]\n",
    "plt.plot(x, psi)\n",
    "plt.xlim(0,1.5)\n",
    "plt.ylim(-2,2)\n",
    "plt.plot(x,np.zeros_like(x))"
   ]
  },
  {
   "cell_type": "code",
   "execution_count": 21,
   "metadata": {
    "collapsed": false
   },
   "outputs": [
    {
     "data": {
      "text/plain": [
       "[<matplotlib.lines.Line2D at 0x1057dec88>]"
      ]
     },
     "execution_count": 21,
     "metadata": {},
     "output_type": "execute_result"
    },
    {
     "data": {
      "image/png": "[encoded data removed]",
      "text/plain": [
       "<matplotlib.figure.Figure at 0x1057ffe80>"
      ]
     },
     "metadata": {},
     "output_type": "display_data"
    }
   ],
   "source": [
    "result = odeint(func, y0, x, args=(-19.925,))\n",
    "psi = result[:,0]\n",
    "plt.plot(x, psi)\n",
    "plt.xlim(0,1.5)\n",
    "plt.ylim(-2,2)\n",
    "plt.plot(x,np.zeros_like(x))"
   ]
  },
  {
   "cell_type": "code",
   "execution_count": 23,
   "metadata": {
    "collapsed": false
   },
   "outputs": [
    {
     "data": {
      "text/plain": [
       "[<matplotlib.lines.Line2D at 0x111e05278>]"
      ]
     },
     "execution_count": 23,
     "metadata": {},
     "output_type": "execute_result"
    },
    {
     "data": {
      "image/png": "[encoded data removed]",
      "text/plain": [
       "<matplotlib.figure.Figure at 0x10c839e10>"
      ]
     },
     "metadata": {},
     "output_type": "display_data"
    }
   ],
   "source": [
    "result = odeint(func, y0, x, args=(-19.9125,))\n",
    "psi = result[:,0]\n",
    "plt.plot(x, psi)\n",
    "plt.xlim(0,1.5)\n",
    "plt.ylim(-2,2)\n",
    "plt.plot(x,np.zeros_like(x))"
   ]
  },
  {
   "cell_type": "code",
   "execution_count": 24,
   "metadata": {
    "collapsed": false
   },
   "outputs": [
    {
     "data": {
      "text/plain": [
       "[<matplotlib.lines.Line2D at 0x10dcd8470>]"
      ]
     },
     "execution_count": 24,
     "metadata": {},
     "output_type": "execute_result"
    },
    {
     "data": {
      "image/png": "[encoded data removed]",
      "text/plain": [
       "<matplotlib.figure.Figure at 0x10d7956a0>"
      ]
     },
     "metadata": {},
     "output_type": "display_data"
    }
   ],
   "source": [
    "result = odeint(func, y0, x, args=(-19.91875,))\n",
    "psi = result[:,0]\n",
    "plt.plot(x, psi)\n",
    "plt.xlim(0,1.5)\n",
    "plt.ylim(-2,2)\n",
    "plt.plot(x,np.zeros_like(x))"
   ]
  },
  {
   "cell_type": "code",
   "execution_count": 25,
   "metadata": {
    "collapsed": false
   },
   "outputs": [
    {
     "data": {
      "text/plain": [
       "[<matplotlib.lines.Line2D at 0x10dd7c208>]"
      ]
     },
     "execution_count": 25,
     "metadata": {},
     "output_type": "execute_result"
    },
    {
     "data": {
      "image/png": "[encoded data removed]",
      "text/plain": [
       "<matplotlib.figure.Figure at 0x111e05a90>"
      ]
     },
     "metadata": {},
     "output_type": "display_data"
    }
   ],
   "source": [
    "result = odeint(func, y0, x, args=(-19.915625,))\n",
    "psi = result[:,0]\n",
    "plt.plot(x, psi)\n",
    "plt.xlim(0,1.5)\n",
    "plt.ylim(-2,2)\n",
    "plt.plot(x,np.zeros_like(x))"
   ]
  },
  {
   "cell_type": "code",
   "execution_count": 27,
   "metadata": {
    "collapsed": false
   },
   "outputs": [
    {
     "data": {
      "text/plain": [
       "[<matplotlib.lines.Line2D at 0x111eb1d30>]"
      ]
     },
     "execution_count": 27,
     "metadata": {},
     "output_type": "execute_result"
    },
    {
     "data": {
      "image/png": "[encoded data removed]",
      "text/plain": [
       "<matplotlib.figure.Figure at 0x10e031e48>"
      ]
     },
     "metadata": {},
     "output_type": "display_data"
    }
   ],
   "source": [
    "result = odeint(func, y0, x, args=(-19.9135625,))\n",
    "psi = result[:,0]\n",
    "plt.plot(x, psi)\n",
    "plt.xlim(0,1.5)\n",
    "plt.ylim(-2,2)\n",
    "plt.plot(x,np.zeros_like(x))"
   ]
  },
  {
   "cell_type": "markdown",
   "metadata": {},
   "source": [
    "We're getting there, but this will take a long time if I have to do it by hand. Let's automate."
   ]
  },
  {
   "cell_type": "code",
   "execution_count": 36,
   "metadata": {
    "collapsed": true
   },
   "outputs": [],
   "source": [
    "def bisect(func, E1, E2, a=1, even=True):\n",
    "    \"\"\"Given two ends of an energy interval, chop it in half.\"\"\"\n",
    "    \n",
    "    x = np.linspace(0, 2*a, 200)\n",
    "    \n",
    "    if even:\n",
    "        y0 = (1.0, 0.0)\n",
    "    else:\n",
    "        y0 = (0.0, 1.0)\n",
    "        \n",
    "    # get initial signs\n",
    "    res1 = odeint(func, y0, x, args=(E1,))\n",
    "    psi1 = res1[-1,0]\n",
    "    \n",
    "    res2 = odeint(func, y0, x, args=(E2,))\n",
    "    psi2 = res2[-1,0]\n",
    "    \n",
    "    Ehalf = (E1+E2)/2\n",
    "    reshalf = odeint(func, y0, x, args=(Ehalf,))\n",
    "    psihalf = reshalf[-1, 0]\n",
    "    \n",
    "    if np.sign(psihalf) == np.sign(psi1):\n",
    "        return (Ehalf, E2)\n",
    "    else:\n",
    "        return (E1, Ehalf)\n",
    "    \n",
    "\n",
    "def find_energy(func, a, E1, E2, even=True):\n",
    "    \n",
    "    while abs(E1-E2) > 1.0e-14:\n",
    "        E1, E2 = bisect(func, E1, E2, a, even)\n",
    "        \n",
    "    if even:\n",
    "        y0 = (1.0, 0.0)\n",
    "    else:\n",
    "        y0 = (0.0, 1.0)\n",
    "\n",
    "    x = np.linspace(0, 2*a, 200)\n",
    "    result = odeint(func, y0, x, args=(E1, ))\n",
    "    psi = result[:,0]\n",
    "    plt.plot(x, psi)\n",
    "    plt.ylim(-1.1, 1.1)\n",
    "    plt.xlim(0, 1.5*a)\n",
    "    \n",
    "    return E1"
   ]
  },
  {
   "cell_type": "code",
   "execution_count": 37,
   "metadata": {
    "collapsed": false
   },
   "outputs": [
    {
     "data": {
      "text/plain": [
       "-19.91363515874734"
      ]
     },
     "execution_count": 37,
     "metadata": {},
     "output_type": "execute_result"
    },
    {
     "data": {
      "image/png": "[encoded data removed]",
      "text/plain": [
       "<matplotlib.figure.Figure at 0x112421eb8>"
      ]
     },
     "metadata": {},
     "output_type": "display_data"
    }
   ],
   "source": [
    "find_energy(func, 1.0, -19.915625, -19.9135625)"
   ]
  },
  {
   "cell_type": "markdown",
   "metadata": {},
   "source": [
    "Beautiful.\n",
    "\n",
    "Let's find the first odd one."
   ]
  },
  {
   "cell_type": "code",
   "execution_count": 41,
   "metadata": {
    "collapsed": false
   },
   "outputs": [
    {
     "data": {
      "text/plain": [
       "[<matplotlib.lines.Line2D at 0x112675b00>]"
      ]
     },
     "execution_count": 41,
     "metadata": {},
     "output_type": "execute_result"
    },
    {
     "data": {
      "image/png": "[encoded data removed]",
      "text/plain": [
       "<matplotlib.figure.Figure at 0x112675a20>"
      ]
     },
     "metadata": {},
     "output_type": "display_data"
    }
   ],
   "source": [
    "y0 = (0.0, 1.0)\n",
    "\n",
    "result = odeint(func, y0, x, args=(-19.6,))\n",
    "psi = result[:,0]\n",
    "plt.plot(x, psi)\n",
    "plt.xlim(0,1.5)\n",
    "plt.ylim(-2,2)\n",
    "plt.plot(x,np.zeros_like(x))"
   ]
  },
  {
   "cell_type": "code",
   "execution_count": 42,
   "metadata": {
    "collapsed": false
   },
   "outputs": [
    {
     "data": {
      "text/plain": [
       "-19.654603647999515"
      ]
     },
     "execution_count": 42,
     "metadata": {},
     "output_type": "execute_result"
    },
    {
     "data": {
      "image/png": "[encoded data removed]",
      "text/plain": [
       "<matplotlib.figure.Figure at 0x10dd4c390>"
      ]
     },
     "metadata": {},
     "output_type": "display_data"
    }
   ],
   "source": [
    "find_energy(func, 1.0, -19.6, -19.7, even=False)"
   ]
  },
  {
   "cell_type": "markdown",
   "metadata": {},
   "source": [
    "What happens if we start with a bigger range?"
   ]
  },
  {
   "cell_type": "code",
   "execution_count": 43,
   "metadata": {
    "collapsed": false
   },
   "outputs": [
    {
     "data": {
      "text/plain": [
       "-19.654603647999515"
      ]
     },
     "execution_count": 43,
     "metadata": {},
     "output_type": "execute_result"
    },
    {
     "data": {
      "image/png": "[encoded data removed]",
      "text/plain": [
       "<matplotlib.figure.Figure at 0x10e16b320>"
      ]
     },
     "metadata": {},
     "output_type": "display_data"
    }
   ],
   "source": [
    "find_energy(func, 1.0, -19.5, -19.9, even=False)"
   ]
  },
  {
   "cell_type": "markdown",
   "metadata": {},
   "source": [
    "We have now addressed the second part of the shooting method: improving our guess based on an initial (pair, in this case) guess.  This approach is called the *bisection method* for finding roots, and it is both stable and fast, assuming you can find guesses that bracket the true value. \n",
    "\n",
    "There are methods for working with a single guess (which you could use to get a pair of bracketing values to feed into a bisection algorithm), but I'm not going to cover them here.\n",
    "\n",
    "Hopefully this is enough information to get you started."
   ]
  },
  {
   "cell_type": "code",
   "execution_count": null,
   "metadata": {
    "collapsed": true
   },
   "outputs": [],
   "source": []
  }
 ],
 "metadata": {
  "anaconda-cloud": {},
  "kernelspec": {
   "display_name": "Python [conda env:PHYS362]",
   "language": "python",
   "name": "conda-env-PHYS362-py"
  },
  "language_info": {
   "codemirror_mode": {
    "name": "ipython",
    "version": 3
   },
   "file_extension": ".py",
   "mimetype": "text/x-python",
   "name": "python",
   "nbconvert_exporter": "python",
   "pygments_lexer": "ipython3",
   "version": "3.5.2"
  }
 },
 "nbformat": 4,
 "nbformat_minor": 1
}
